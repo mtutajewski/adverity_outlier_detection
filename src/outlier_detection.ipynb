{
 "cells": [
  {
   "cell_type": "markdown",
   "metadata": {},
   "source": [
    "Outlier Detection\n",
    "Second, build a simple outlier detection algorithm based on a “moving average”. A data point is\n",
    "identified as an outliear, if it is more than 1.5 standard deviations apart from its calculated moving\n",
    "average (for simplicity’s sake, we will assume a Gaussian distribution here).\n",
    "The outcome of this task is a plot, that highlights all found outliers."
   ]
  },
  {
   "cell_type": "code",
   "execution_count": 272,
   "metadata": {},
   "outputs": [],
   "source": [
    "import pandas as pd\n",
    "import numpy as np\n",
    "import matplotlib.pyplot as plt; plt.style.use(\"ggplot\")"
   ]
  },
  {
   "cell_type": "code",
   "execution_count": 273,
   "metadata": {},
   "outputs": [],
   "source": [
    "DATA_DIR = \"data/avazu-ctr-prediction\"\n",
    "PLOTS_DIR = \"plots\""
   ]
  },
  {
   "cell_type": "markdown",
   "metadata": {},
   "source": [
    "##### In this task we simplify and assume a normal distribution. I've also made a simplification earlier, by not scaling the data or putting any particular focus on the CTR ratios where sample sizes were small. "
   ]
  },
  {
   "cell_type": "code",
   "execution_count": 274,
   "metadata": {},
   "outputs": [],
   "source": [
    "df = pd.read_csv(f\"../{DATA_DIR}/ctr_df.csv\", index_col=\"timestamp\")\n",
    "df.index = pd.to_datetime(df.index)"
   ]
  },
  {
   "cell_type": "code",
   "execution_count": 275,
   "metadata": {},
   "outputs": [],
   "source": [
    "df[\"ctr\"] = df.values"
   ]
  },
  {
   "cell_type": "code",
   "execution_count": 276,
   "metadata": {},
   "outputs": [],
   "source": [
    "df[\"ma\"] = df[\"ctr\"].rolling(window=3).mean()\n",
    "std = np.std(df[\"ctr\"])"
   ]
  },
  {
   "cell_type": "code",
   "execution_count": 277,
   "metadata": {},
   "outputs": [],
   "source": [
    "df[\"act_ma_diff\"] = df[\"ctr\"] - df[\"ma\"]\n",
    "df[\"outlier\"] = np.where(df[\"act_ma_diff\"] > 1.5 * std, 1, 0)"
   ]
  },
  {
   "cell_type": "code",
   "execution_count": 278,
   "metadata": {},
   "outputs": [
    {
     "data": {
      "text/html": [
       "<div>\n",
       "<style scoped>\n",
       "    .dataframe tbody tr th:only-of-type {\n",
       "        vertical-align: middle;\n",
       "    }\n",
       "\n",
       "    .dataframe tbody tr th {\n",
       "        vertical-align: top;\n",
       "    }\n",
       "\n",
       "    .dataframe thead th {\n",
       "        text-align: right;\n",
       "    }\n",
       "</style>\n",
       "<table border=\"1\" class=\"dataframe\">\n",
       "  <thead>\n",
       "    <tr style=\"text-align: right;\">\n",
       "      <th></th>\n",
       "      <th>0</th>\n",
       "      <th>ctr</th>\n",
       "      <th>ma</th>\n",
       "      <th>act_ma_diff</th>\n",
       "      <th>outlier</th>\n",
       "    </tr>\n",
       "    <tr>\n",
       "      <th>timestamp</th>\n",
       "      <th></th>\n",
       "      <th></th>\n",
       "      <th></th>\n",
       "      <th></th>\n",
       "      <th></th>\n",
       "    </tr>\n",
       "  </thead>\n",
       "  <tbody>\n",
       "    <tr>\n",
       "      <th>2014-10-22 14:00:00</th>\n",
       "      <td>0.186546</td>\n",
       "      <td>0.186546</td>\n",
       "      <td>0.152463</td>\n",
       "      <td>0.034083</td>\n",
       "      <td>1</td>\n",
       "    </tr>\n",
       "    <tr>\n",
       "      <th>2014-10-25 04:00:00</th>\n",
       "      <td>0.184193</td>\n",
       "      <td>0.184193</td>\n",
       "      <td>0.147037</td>\n",
       "      <td>0.037156</td>\n",
       "      <td>1</td>\n",
       "    </tr>\n",
       "  </tbody>\n",
       "</table>\n",
       "</div>"
      ],
      "text/plain": [
       "                            0       ctr        ma  act_ma_diff  outlier\n",
       "timestamp                                                              \n",
       "2014-10-22 14:00:00  0.186546  0.186546  0.152463     0.034083        1\n",
       "2014-10-25 04:00:00  0.184193  0.184193  0.147037     0.037156        1"
      ]
     },
     "execution_count": 278,
     "metadata": {},
     "output_type": "execute_result"
    }
   ],
   "source": [
    "df[df[\"outlier\"]==True]"
   ]
  },
  {
   "cell_type": "code",
   "execution_count": 279,
   "metadata": {},
   "outputs": [
    {
     "data": {
      "text/plain": [
       "0    238\n",
       "1      2\n",
       "Name: outlier, dtype: int64"
      ]
     },
     "execution_count": 279,
     "metadata": {},
     "output_type": "execute_result"
    }
   ],
   "source": [
    "df.outlier.value_counts()"
   ]
  },
  {
   "cell_type": "code",
   "execution_count": 280,
   "metadata": {},
   "outputs": [
    {
     "data": {
      "text/html": [
       "<div>\n",
       "<style scoped>\n",
       "    .dataframe tbody tr th:only-of-type {\n",
       "        vertical-align: middle;\n",
       "    }\n",
       "\n",
       "    .dataframe tbody tr th {\n",
       "        vertical-align: top;\n",
       "    }\n",
       "\n",
       "    .dataframe thead th {\n",
       "        text-align: right;\n",
       "    }\n",
       "</style>\n",
       "<table border=\"1\" class=\"dataframe\">\n",
       "  <thead>\n",
       "    <tr style=\"text-align: right;\">\n",
       "      <th></th>\n",
       "      <th>0</th>\n",
       "      <th>ctr</th>\n",
       "      <th>ma</th>\n",
       "      <th>act_ma_diff</th>\n",
       "      <th>outlier</th>\n",
       "    </tr>\n",
       "    <tr>\n",
       "      <th>timestamp</th>\n",
       "      <th></th>\n",
       "      <th></th>\n",
       "      <th></th>\n",
       "      <th></th>\n",
       "      <th></th>\n",
       "    </tr>\n",
       "  </thead>\n",
       "  <tbody>\n",
       "    <tr>\n",
       "      <th>2014-10-22 14:00:00</th>\n",
       "      <td>0.186546</td>\n",
       "      <td>0.186546</td>\n",
       "      <td>0.152463</td>\n",
       "      <td>0.034083</td>\n",
       "      <td>1</td>\n",
       "    </tr>\n",
       "    <tr>\n",
       "      <th>2014-10-25 04:00:00</th>\n",
       "      <td>0.184193</td>\n",
       "      <td>0.184193</td>\n",
       "      <td>0.147037</td>\n",
       "      <td>0.037156</td>\n",
       "      <td>1</td>\n",
       "    </tr>\n",
       "  </tbody>\n",
       "</table>\n",
       "</div>"
      ],
      "text/plain": [
       "                            0       ctr        ma  act_ma_diff  outlier\n",
       "timestamp                                                              \n",
       "2014-10-22 14:00:00  0.186546  0.186546  0.152463     0.034083        1\n",
       "2014-10-25 04:00:00  0.184193  0.184193  0.147037     0.037156        1"
      ]
     },
     "execution_count": 280,
     "metadata": {},
     "output_type": "execute_result"
    }
   ],
   "source": [
    "df[df[\"outlier\"]==True]"
   ]
  },
  {
   "cell_type": "code",
   "execution_count": 281,
   "metadata": {},
   "outputs": [
    {
     "data": {
      "image/png": "[encoded data removed]",
      "text/plain": [
       "<Figure size 720x360 with 1 Axes>"
      ]
     },
     "metadata": {},
     "output_type": "display_data"
    }
   ],
   "source": [
    "df_condition = df[df[\"outlier\"]==True]\n",
    "\n",
    "plt.rcParams[\"figure.figsize\"] = [10, 5]\n",
    "plt.plot(df.index, df[\"ctr\"], \"w\")\n",
    "plt.scatter(df_condition.index, df_condition[\"ctr\"], s=500)\n",
    "\n",
    "outlier_timestamps = [\"2014-10-22 14:00:00\", \"2014-10-25 04:00:00\"]\n",
    "\n",
    "for timestamp in range(len(df_condition)):\n",
    "   plt.annotate(outlier_timestamps[timestamp], (df_condition.index[timestamp], df_condition[\"ctr\"][timestamp]))\n",
    "\n",
    "plt.title(\"CTR ratio and outliers from 21st to 30th Oct 2014, sampled hourly.\")\n",
    "\n",
    "plt.xticks(df.index.normalize())\n",
    "plt.savefig(f\"../{PLOTS_DIR}/ctr_ratio_ma_3hrs.png\")\n",
    "plt.show()"
   ]
  }
 ],
 "metadata": {
  "interpreter": {
   "hash": "ad2bdc8ecc057115af97d19610ffacc2b4e99fae6737bb82f5d7fb13d2f2c186"
  },
  "kernelspec": {
   "display_name": "Python 3.8.8 ('base')",
   "language": "python",
   "name": "python3"
  },
  "language_info": {
   "codemirror_mode": {
    "name": "ipython",
    "version": 3
   },
   "file_extension": ".py",
   "mimetype": "text/x-python",
   "name": "python",
   "nbconvert_exporter": "python",
   "pygments_lexer": "ipython3",
   "version": "3.8.8"
  },
  "orig_nbformat": 4
 },
 "nbformat": 4,
 "nbformat_minor": 2
}
